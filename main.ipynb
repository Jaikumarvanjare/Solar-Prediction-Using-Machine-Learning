{
 "cells": [
  {
   "cell_type": "code",
   "execution_count": 1,
   "id": "673eab85-75a5-4177-bb04-4d68336d8690",
   "metadata": {},
   "outputs": [
    {
     "ename": "ModuleNotFoundError",
     "evalue": "No module named 'numpy'",
     "output_type": "error",
     "traceback": [
      "\u001b[1;31m---------------------------------------------------------------------------\u001b[0m",
      "\u001b[1;31mModuleNotFoundError\u001b[0m                       Traceback (most recent call last)",
      "Cell \u001b[1;32mIn[1], line 1\u001b[0m\n\u001b[1;32m----> 1\u001b[0m \u001b[38;5;28;01mimport\u001b[39;00m\u001b[38;5;250m \u001b[39m\u001b[38;5;21;01mnumpy\u001b[39;00m\u001b[38;5;250m \u001b[39m\u001b[38;5;28;01mas\u001b[39;00m\u001b[38;5;250m \u001b[39m\u001b[38;5;21;01mnp\u001b[39;00m\n\u001b[0;32m      2\u001b[0m \u001b[38;5;28;01mimport\u001b[39;00m\u001b[38;5;250m \u001b[39m\u001b[38;5;21;01mpandas\u001b[39;00m\u001b[38;5;250m \u001b[39m\u001b[38;5;28;01mas\u001b[39;00m\u001b[38;5;250m \u001b[39m\u001b[38;5;21;01mpd\u001b[39;00m\n\u001b[0;32m      3\u001b[0m \u001b[38;5;28;01mimport\u001b[39;00m\u001b[38;5;250m \u001b[39m\u001b[38;5;21;01mmatplotlib\u001b[39;00m\u001b[38;5;21;01m.\u001b[39;00m\u001b[38;5;21;01mpyplot\u001b[39;00m\u001b[38;5;250m \u001b[39m\u001b[38;5;28;01mas\u001b[39;00m\u001b[38;5;250m \u001b[39m\u001b[38;5;21;01mplt\u001b[39;00m\n",
      "\u001b[1;31mModuleNotFoundError\u001b[0m: No module named 'numpy'"
     ]
    }
   ],
   "source": [
    "import numpy as np\n",
    "import pandas as pd\n",
    "import matplotlib.pyplot as plt\n",
    "import seaborn as sns\n",
    "\n",
    "from scipy import stats\n",
    "\n",
    "import re\n",
    "\n",
    "from sklearn.preprocessing import StandardScaler, MinMaxScaler\n",
    "\n",
    "from sklearn.ensemble import ExtraTreesClassifier\n",
    "from sklearn.feature_selection import SelectKBest\n",
    "from sklearn.feature_selection import chi2, f_classif, mutual_info_classif\n",
    "\n",
    "from sklearn.model_selection import train_test_split\n",
    "\n",
    "import xgboost as xgb\n",
    "\n",
    "import os\n",
    "os.environ['TF_ENABLE_ONEDNN_OPTS'] = '0'\n",
    "\n",
    "from tensorflow.keras.layers import Dense, Dropout, Activation\n",
    "from tensorflow.keras.optimizers import Adam, SGD\n",
    "from tensorflow.keras.models import Sequential\n",
    "\n",
    "from sklearn.metrics import mean_squared_error, r2_score, median_absolute_error\n",
    "\n",
    "import warnings\n",
    "warnings.filterwarnings('ignore')\n"
   ]
  },
  {
   "cell_type": "code",
   "execution_count": 2,
   "id": "6ee035d8-39ae-4176-b7b2-ec0db5bd69c5",
   "metadata": {},
   "outputs": [],
   "source": [
    "df=pd.read_csv(\"SolarPrediction.csv\")\n"
   ]
  },
  {
   "cell_type": "code",
   "execution_count": 3,
   "id": "4a82c34b-2d01-405f-9e2d-c49fb5c76809",
   "metadata": {},
   "outputs": [],
   "source": [
    "df['Data']=df['Data'].apply(lambda x: x.split()[0])"
   ]
  },
  {
   "cell_type": "code",
   "execution_count": 4,
   "id": "fcf8817a-585c-4ce6-ac3f-6ac5afec7b0b",
   "metadata": {},
   "outputs": [],
   "source": [
    "df['Month']=pd.to_datetime(df['Data']).dt.month\n",
    "df['Day']=pd.to_datetime(df['Data']).dt.day\n",
    "df['Year']=pd.to_datetime(df['Data']).dt.year\n",
    "df['Hour']=pd.to_datetime(df['Time']).dt.hour\n",
    "df['Minute']=pd.to_datetime(df['Time']).dt.minute\n",
    "df['Second']=pd.to_datetime(df['Time']).dt.second"
   ]
  },
  {
   "cell_type": "code",
   "execution_count": 5,
   "id": "1ea75dd6-b91d-43cd-870d-b86bd564da4e",
   "metadata": {},
   "outputs": [],
   "source": [
    "df['SunriseHour']=df['TimeSunRise'].apply(lambda x: re.search(r'^\\d+',x).group(0)).astype(int)\n",
    "df['SunriseMinute']=df['TimeSunRise'].apply(lambda x: re.search(r':(\\d+)',x).group(1)).astype(int)\n",
    "df['SunsetHour']=df['TimeSunSet'].apply(lambda x: re.search(r':(\\d+)',x).group(1)).astype(int)\n",
    "df['SunsetMinute']=df['TimeSunSet'].apply(lambda x: re.search(r':(\\d+)',x).group(1)).astype(int)"
   ]
  },
  {
   "cell_type": "code",
   "execution_count": 6,
   "id": "829ac4d1-d81e-44e5-bbf4-a2a4dc1efe98",
   "metadata": {},
   "outputs": [],
   "source": [
    "df.drop(['UNIXTime','Data','Time','TimeSunRise','TimeSunSet'],axis=1,inplace=True)"
   ]
  },
  {
   "cell_type": "code",
   "execution_count": null,
   "id": "3a96d5b3-4902-47b4-b41d-801907995279",
   "metadata": {},
   "outputs": [],
   "source": [
    "df.isnull().sum().sum()"
   ]
  },
  {
   "cell_type": "code",
   "execution_count": 8,
   "id": "967823cd-b066-41f3-aedf-c1fc2e7816ca",
   "metadata": {},
   "outputs": [],
   "source": [
    "input_features=df.drop(['Radiation'],axis=1)\n",
    "output_features=df['Radiation']"
   ]
  },
  {
   "cell_type": "code",
   "execution_count": null,
   "id": "ca04b7d8-c89b-4096-ad4c-035ca3392069",
   "metadata": {},
   "outputs": [],
   "source": [
    "cor=df.corr()\n",
    "plt.figure(figsize=(10,10))\n",
    "sns.heatmap(cor,annot=True)\n",
    "plt.show()"
   ]
  },
  {
   "cell_type": "code",
   "execution_count": 10,
   "id": "efac2fa3-8f48-4efa-b4c3-d4edce318f36",
   "metadata": {},
   "outputs": [],
   "source": [
    "del df"
   ]
  },
  {
   "cell_type": "code",
   "execution_count": 11,
   "id": "bf3afe96-e9a7-4c0e-8fc9-0663d4a7d2c3",
   "metadata": {},
   "outputs": [],
   "source": [
    "output_features=output_features.apply(lambda x: int(x*100))"
   ]
  },
  {
   "cell_type": "code",
   "execution_count": 12,
   "id": "d2a246cb-be75-4548-b44b-653c23887885",
   "metadata": {},
   "outputs": [],
   "source": [
    "scalar=MinMaxScaler()\n",
    "scaled_input_features=scalar.fit_transform(input_features)\n",
    "input_features_columns=input_features.columns"
   ]
  },
  {
   "cell_type": "code",
   "execution_count": 13,
   "id": "71723919-4ee2-4484-8760-0f0b7f27dfd4",
   "metadata": {},
   "outputs": [],
   "source": [
    "feature_selector= SelectKBest(chi2,k='all')\n",
    "selected_features=feature_selector.fit(scaled_input_features,output_features)"
   ]
  },
  {
   "cell_type": "code",
   "execution_count": null,
   "id": "d96ca89c-0d96-4d66-904a-e5091a4b715e",
   "metadata": {},
   "outputs": [],
   "source": [
    "imp=pd.DataFrame(selected_features.scores_,index=input_features_columns,columns=['Importance'])\n",
    "imp.sort_values(by='Importance',ascending=False, inplace=True)\n",
    "imp"
   ]
  },
  {
   "cell_type": "code",
   "execution_count": null,
   "id": "b19c8c98-f8ea-4cc0-a30f-d12a913afa8f",
   "metadata": {},
   "outputs": [],
   "source": [
    "plt.figure(figsize=(10,10))\n",
    "sns.barplot(imp.Importance)\n",
    "plt.xticks(rotation=90)\n",
    "plt.show()"
   ]
  },
  {
   "cell_type": "code",
   "execution_count": null,
   "id": "48747aba-f2e6-4250-9529-43e3d1ba0d7f",
   "metadata": {},
   "outputs": [],
   "source": [
    "model=ExtraTreesClassifier(n_estimators=20,verbose=2, n_jobs=-1)\n",
    "model.fit(scaled_input_features,output_features)"
   ]
  },
  {
   "cell_type": "code",
   "execution_count": null,
   "id": "fff89718-26dd-4c7d-80bc-1e3e0b1fc831",
   "metadata": {},
   "outputs": [],
   "source": [
    "imp=pd.DataFrame(model.feature_importances_,index=input_features_columns,columns=['Importance'])\n",
    "imp.sort_values(by='Importance',ascending=False,inplace=True)\n",
    "imp"
   ]
  },
  {
   "cell_type": "code",
   "execution_count": null,
   "id": "d49ccded-f7e5-4384-ae5d-d9a414f17193",
   "metadata": {},
   "outputs": [],
   "source": [
    "plt.bar(imp.index,imp['Importance'])\n",
    "plt.xticks(rotation=90)\n",
    "plt.show()"
   ]
  },
  {
   "cell_type": "code",
   "execution_count": 19,
   "id": "7e5d9160-5934-47da-8679-914b7747b589",
   "metadata": {},
   "outputs": [],
   "source": [
    "#feature Engineering"
   ]
  },
  {
   "cell_type": "code",
   "execution_count": null,
   "id": "9794a07a-9bfa-4227-b86a-5c8952f4983f",
   "metadata": {},
   "outputs": [],
   "source": [
    "input_features.drop(['Year','SunriseHour'],axis=1)\n",
    "pd.DataFrame(input_features)\n"
   ]
  },
  {
   "cell_type": "code",
   "execution_count": null,
   "id": "36989b95-23cf-4f04-936c-eae23c6d64cc",
   "metadata": {},
   "outputs": [],
   "source": [
    "transform_features=['Temperature','Pressure','Humidity','WindDirection(Degrees)','Speed']\n",
    "for i in transform_features:\n",
    "    fig, (ax1,ax2,ax3,ax4,ax5)= plt.subplots(5,1, figsize=(10,6))\n",
    "    input_features[i].hist(ax=ax1, bins=50)\n",
    "    ((input_features[i]+1).transform(np.log)).hist(ax=ax2, bins=50)\n",
    "    pd.DataFrame(stats.boxcox(input_features[i]+1)[0]).hist(ax=ax3, bins=50)\n",
    "    pd.DataFrame(MinMaxScaler().fit_transform(pd.DataFrame(input_features[i]))).hist(ax=ax4, bins=50)    \n",
    "    pd.DataFrame(StandardScaler().fit_transform(pd.DataFrame(input_features[i]))).hist(ax=ax5, bins=50)    \n",
    "    ax1.set_ylabel('Normal')\n",
    "    ax2.set_ylabel('Log')\n",
    "    ax3.set_ylabel('Boxcox')\n",
    "    ax4.set_ylabel('MinMax')\n",
    "    ax5.set_ylabel('Standard')\n",
    "    ax1.set_title(i)"
   ]
  },
  {
   "cell_type": "code",
   "execution_count": 44,
   "id": "6977225a-2f0b-4b82-8c2e-f0d88fe2a8fc",
   "metadata": {},
   "outputs": [],
   "source": [
    "transform={'Temperture':(input_features[\"Temperature\"]+1).transform(np.log),\n",
    "           'Speed': (input_features['Speed']+1).transform(np.log),\n",
    "           'WindDirection(Degrees)': MinMaxScaler().fit_transform(pd.DataFrame(input_features['WindDirection(Degrees)'])),\n",
    "           'Pressure': stats.boxcox(input_features['Pressure']+1)[0],\n",
    "           'Humidity': stats.boxcox(input_features['Humidity']+1)[0]}\n",
    "           "
   ]
  },
  {
   "cell_type": "code",
   "execution_count": 45,
   "id": "e2430a7d-e5a0-4a7c-a481-cf5ec77d85ec",
   "metadata": {},
   "outputs": [],
   "source": [
    "for i in transform:\n",
    "    input_features[i]=transform[i]"
   ]
  },
  {
   "cell_type": "code",
   "execution_count": 46,
   "id": "3d9a68df-90ff-4114-b328-b5a8417c1ecc",
   "metadata": {},
   "outputs": [],
   "source": [
    "xTrain, xTest, yTrain, yTest=train_test_split(input_features,output_features, test_size=0.3)"
   ]
  },
  {
   "cell_type": "code",
   "execution_count": null,
   "id": "0ff832e3-cb2a-492b-8aaa-88a997de0574",
   "metadata": {
    "collapsed": true,
    "jupyter": {
     "outputs_hidden": true
    }
   },
   "outputs": [],
   "source": [
    "pd.DataFrame(xTrain)"
   ]
  },
  {
   "cell_type": "code",
   "execution_count": 48,
   "id": "525f237a-2b71-4bfc-b827-a931951f339d",
   "metadata": {},
   "outputs": [],
   "source": [
    "scaler=StandardScaler()\n",
    "xTrain=scaler.fit_transform(xTrain)\n",
    "xTest=scaler.transform(xTest)"
   ]
  },
  {
   "cell_type": "markdown",
   "id": "f198aa42-e2e9-4d29-ba24-e2d5604a80ea",
   "metadata": {},
   "source": [
    "#XGBoost"
   ]
  },
  {
   "cell_type": "code",
   "execution_count": null,
   "id": "ddf03a28-14de-4f2a-8938-661fc45fe0c1",
   "metadata": {
    "collapsed": true,
    "jupyter": {
     "outputs_hidden": true
    }
   },
   "outputs": [],
   "source": [
    "from xgboost import XGBRegressor\n",
    "\n",
    "model=XGBRegressor(learning_rate=0.1,max_depth=8)\n",
    "model.fit(xTrain,yTrain)"
   ]
  },
  {
   "cell_type": "code",
   "execution_count": 50,
   "id": "13f3ece7-775b-413a-8722-87224d7d08c4",
   "metadata": {},
   "outputs": [],
   "source": [
    "y_pred=model.predict(xTest)"
   ]
  },
  {
   "cell_type": "code",
   "execution_count": null,
   "id": "5b490eb2-42fe-4b68-9a2f-5a16222bb77a",
   "metadata": {},
   "outputs": [],
   "source": [
    "rmse=np.sqrt(mean_squared_error(yTest,y_pred))\n",
    "r2=r2_score(yTest,y_pred)\n",
    "\n",
    "print(f\"rmse : {rmse:.2f}\")\n",
    "print(f\"r2 : {r2:.2f}\")"
   ]
  },
  {
   "cell_type": "markdown",
   "id": "d3720fd0-bbb8-4686-b39b-2c32bb397122",
   "metadata": {},
   "source": [
    "#Multilayer Perceptron Model"
   ]
  },
  {
   "cell_type": "code",
   "execution_count": null,
   "id": "70a05f2b-8a14-40c0-9f92-8affe3318453",
   "metadata": {},
   "outputs": [],
   "source": [
    "yTrain.apply(lambda x: x/100)"
   ]
  },
  {
   "cell_type": "code",
   "execution_count": null,
   "id": "60002c1f-bee7-44bc-8878-48f2712d6fa9",
   "metadata": {},
   "outputs": [],
   "source": [
    "\n",
    "yTest.apply(lambda x: x/100)"
   ]
  },
  {
   "cell_type": "code",
   "execution_count": 54,
   "id": "726d69f7-1c97-4c49-b557-2030d92dc6cc",
   "metadata": {},
   "outputs": [],
   "source": [
    "model=Sequential([\n",
    "    Dense(123,activation='relu',input_dim=16),\n",
    "    Dropout(0.33),\n",
    "    Dense(64,activation='relu'),\n",
    "    Dropout(0.33),\n",
    "    Dense(32,activation='relu'),\n",
    "    Dropout(0.33),\n",
    "    Dense(1)\n",
    "])\n",
    "    \n"
   ]
  },
  {
   "cell_type": "code",
   "execution_count": 55,
   "id": "02c9532e-df5d-4501-bd77-8e55ac11b161",
   "metadata": {},
   "outputs": [],
   "source": [
    "model.compile(optimizer='adam',loss='mse',metrics=['mse'])"
   ]
  },
  {
   "cell_type": "code",
   "execution_count": null,
   "id": "bb055a31-e918-46c0-8f92-86aab774a205",
   "metadata": {},
   "outputs": [],
   "source": [
    "model.summary()"
   ]
  },
  {
   "cell_type": "code",
   "execution_count": null,
   "id": "0e01b6a5-604f-4418-a0a5-02823defb7f4",
   "metadata": {},
   "outputs": [],
   "source": [
    "history=model.fit(xTrain,yTrain,validation_split=0.1,epochs=20,batch_size=32)"
   ]
  },
  {
   "cell_type": "code",
   "execution_count": null,
   "id": "a1f47315-018b-4617-baf0-a3afb36d3946",
   "metadata": {},
   "outputs": [],
   "source": [
    "fit=history.history\n",
    "for i in fit:\n",
    "    plt.plot(fit[i])\n",
    "    plt.show()"
   ]
  },
  {
   "cell_type": "code",
   "execution_count": null,
   "id": "449cd9c3-2b36-414e-9fce-b23b171141d7",
   "metadata": {},
   "outputs": [],
   "source": []
  }
 ],
 "metadata": {
  "kernelspec": {
   "display_name": "Python 3",
   "language": "python",
   "name": "python3"
  },
  "language_info": {
   "codemirror_mode": {
    "name": "ipython",
    "version": 3
   },
   "file_extension": ".py",
   "mimetype": "text/x-python",
   "name": "python",
   "nbconvert_exporter": "python",
   "pygments_lexer": "ipython3",
   "version": "3.11.9"
  }
 },
 "nbformat": 4,
 "nbformat_minor": 5
}
